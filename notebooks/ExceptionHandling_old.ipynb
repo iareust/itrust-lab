{
 "cells": [
  {
   "cell_type": "markdown",
   "metadata": {},
   "source": [
    "# Exception- und Event Handling mit Powershell <img src=\"https://cdn.shortpixel.ai/spai/w_149+q_lossy+ret_img+to_webp/https://www.itrust.ch/wp-content/uploads/2019/07/itrust-logo.png\" align=\"right\"/>\n",
    "\n",
    "## Einführung\n",
    "\n",
    "You'll need to install a few Az modules to use this Notebook.\n",
    "\n",
    "### Ziele\n",
    "- Einführung in die Grundsätze des Exception Handlings\n",
    "- Exceptions können in die grundlegenden Fehlerarten eingeteilt und passend behandelt werden\n",
    "- Die Unterschiede und Gemeinsamkeiten zwischen Exceptions und Non-Terminating Errors sind bekannt\n",
    "\n",
    "\n",
    "\n",
    "> NOTE: Weiterführende Informationen zum Thema Exception Handling inkl. Beispielen, können über den Microsoft Docs Artikel [Everything you wanted to know about exceptions](https://docs.microsoft.com/en-us/powershell/scripting/learn/deep-dives/everything-about-exceptions?view=powershell-7.1) bezogen werden."
   ]
  },
  {
   "cell_type": "markdown",
   "metadata": {},
   "source": [
    "## Was muss beim Exceptionhandling beachtet werden"
   ]
  },
  {
   "cell_type": "markdown",
   "metadata": {},
   "source": [
    "## Grundlegende Fehlerarten"
   ]
  },
  {
   "cell_type": "code",
   "execution_count": 4,
   "metadata": {},
   "outputs": [
    {
     "name": "stdout",
     "output_type": "stream",
     "text": [
      "\n",
      "\n",
      "    Directory: /home/jovyan/notebooks\n",
      "\n",
      "Mode                 LastWriteTime         Length Name\n",
      "----                 -------------         ------ ----\n",
      "-----           12/1/2020  4:58 PM           2277 ExceptionHandling.ipynb\n",
      "-----           12/1/2020  4:58 PM          10870 test.ipynb\n",
      "\n"
     ]
    }
   ],
   "source": [
    "Get-ChildItem"
   ]
  },
  {
   "cell_type": "code",
   "execution_count": 5,
   "metadata": {},
   "outputs": [],
   "source": [
    "Write-Information \"Test\""
   ]
  },
  {
   "cell_type": "code",
   "execution_count": 6,
   "metadata": {},
   "outputs": [
    {
     "name": "stdout",
     "output_type": "stream",
     "text": [
      "\u001b[91mWrite-Error: \u001b[91mTest\u001b[0m\n"
     ]
    }
   ],
   "source": [
    "Write-Error \"Test\""
   ]
  },
  {
   "cell_type": "code",
   "execution_count": 13,
   "metadata": {},
   "outputs": [
    {
     "name": "stdout",
     "output_type": "stream",
     "text": [
      "\u001b[91mWrite-Test: \u001b[91mThe term 'Write-Test' is not recognized as the name of a cmdlet, function, script file, or operable program.\n",
      "Check the spelling of the name, or if a path was included, verify that the path is correct and try again.\u001b[0m\n"
     ]
    }
   ],
   "source": [
    "Write-Test\n",
    "$PSITEM.Exception"
   ]
  },
  {
   "cell_type": "code",
   "execution_count": null,
   "metadata": {},
   "outputs": [],
   "source": []
  },
  {
   "cell_type": "code",
   "execution_count": null,
   "metadata": {},
   "outputs": [],
   "source": []
  }
 ],
 "metadata": {
  "kernelspec": {
   "display_name": ".NET (PowerShell)",
   "language": "PowerShell",
   "name": ".net-powershell"
  },
  "language_info": {
   "file_extension": ".ps1",
   "mimetype": "text/x-powershell",
   "name": "PowerShell",
   "pygments_lexer": "powershell",
   "version": "7.0"
  }
 },
 "nbformat": 4,
 "nbformat_minor": 4
}
