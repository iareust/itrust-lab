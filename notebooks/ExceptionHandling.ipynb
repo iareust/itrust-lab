{
 "cells": [
  {
   "cell_type": "markdown",
   "metadata": {},
   "source": [
    "# Exception- und Event Handling mit Powershell <img src=\"https://cdn.shortpixel.ai/spai/w_149+q_lossy+ret_img+to_webp/https://www.itrust.ch/wp-content/uploads/2019/07/itrust-logo.png\" align=\"right\"/>\n",
    "\n",
    "## Einführung\n",
    "\n",
    "TODO\n",
    "\n",
    "### Ziele\n",
    "- Einführung in die Grundsätze des Exception Handlings\n",
    "- Exceptions können in die grundlegenden Fehlerarten eingeteilt und passend behandelt werden\n",
    "- Die Unterschiede und Gemeinsamkeiten zwischen Exceptions und Non-Terminating Errors sind bekannt\n",
    "\n",
    "\n",
    "\n",
    "> NOTE: Weiterführende Informationen zum Thema Exception Handling inkl. Beispielen, können über den Microsoft Docs Artikel [Everything you wanted to know about exceptions](https://docs.microsoft.com/en-us/powershell/scripting/learn/deep-dives/everything-about-exceptions?view=powershell-7.1) bezogen werden."
   ]
  },
  {
   "cell_type": "markdown",
   "metadata": {},
   "source": [
    "### Import und Initialisieren von Modulen für Demo"
   ]
  },
  {
   "cell_type": "code",
   "execution_count": 68,
   "metadata": {},
   "outputs": [
    {
     "name": "stdout",
     "output_type": "stream",
     "text": [
      "\u001b[91mImport-Module: \u001b[91mThe specified module '.\\ExceptionHandlingHelper.psm1' was not loaded because no valid module file was found in any module directory.\u001b[0m\n"
     ]
    }
   ],
   "source": [
    "Import-Module .\\ExceptionHandlingHelper.psm1\n",
    "$InformationPreference = \"Continue\""
   ]
  },
  {
   "cell_type": "markdown",
   "metadata": {},
   "source": [
    "## Was muss beim Exceptionhandling beachtet werden\n",
    "\n"
   ]
  },
  {
   "cell_type": "markdown",
   "metadata": {},
   "source": [
    "## Grundlegende Fehlerarten\n",
    "Excpetions können in den unterschiedlichsten Varianten und Situationen auftretten. Um etwas Ordnung in den Exception-Jungle zu bringen, ist es Sinnvoll die Excpetions in drei grobe Kategorien einzuteilen:\n",
    "- **Nicht behebbare Excpetions**<br>\n",
    "    Gewisse Fehler sind ausserhalb der Kontrolle des Entwicklers und können plötzlich und unerwartet auftretten. Bei solchen Exceptions ist ein Handling im Code oftmals nicht oder nur mit überproportionalem Aufwand möglich. Solche Fehler können nur durch robust entwickelte Systeme kompensiert werden (Systeme welche nach einem Fehler ihre Funktion selbstständig fortsetzen oder wiederaufnehmen können).\n",
    "\n",
    "> *Beispiel:*\n",
    "> - *Azure Function läuft in einen Execution Timeout / Überschreitet die verfügbare Computing Time*\n",
    "> - *Arbeitsspeicher/Festplattenspeicher läuft während Programmlaufzeit voll.*\n",
    "- **Durch retry behebare Excpetions**\n",
    "> Beispiel: \n",
    "- **Durch aktive korrektur behebbare Excpetions**\n",
    "> Beispiel: "
   ]
  },
  {
   "cell_type": "markdown",
   "metadata": {},
   "source": [
    "### Nicht behebbare Excpetions"
   ]
  },
  {
   "cell_type": "code",
   "execution_count": 66,
   "metadata": {},
   "outputs": [
    {
     "name": "stdout",
     "output_type": "stream",
     "text": [
      "Calculating Infinity...\n",
      "\u001b[91mInvalidOperation: \n",
      "\u001b[96mLine |\n",
      "\u001b[96m   8 | \u001b[0m         \u001b[96m$PSCmdlet.ThrowTerminatingError($PSItem)\u001b[0m\n",
      "\u001b[96m     | \u001b[91m         ~~~~~~~~~~~~~~~~~~~~~~~~~~~~~~~~~~~~~~~~\n",
      "\u001b[91m\u001b[96m     | \u001b[91mYou cannot call a method on a null-valued expression.\u001b[0m\n"
     ]
    }
   ],
   "source": [
    "#!powershell\n",
    "\n",
    "# Running a Memoryhungry Function\n",
    "Start-MemoryHungryFunction"
   ]
  },
  {
   "cell_type": "markdown",
   "metadata": {},
   "source": [
    "### Durch Retry behebare Excpetions\n",
    "In dem nachfolgenden Beispiel wird Versucht auf einen Third-Party Server zuzugreifen. Da dieser Server teilweise von vielen Usern verwendet wird, ist es möglich, dass der Server zu busy ist um eine weitere Verbindun zuzulassen. In diesem Szennarion wird durch die Funktion `Connect-ThirdPartyServer` eine `System.ServiceModel.ServerTooBusyException` Exception geworfen.\n",
    "\n",
    "Es ist Sinvoll mit einem zeitversetzten Retry auf diese Expetion zu reagieren und nur den Programfluss zu unterbrechen, wenn nach mehreren Versuchen immernoch keine Verbinung aufgebaut werden konnte. \n",
    "\n",
    "Im nachfolgenden Beispiel ist ein mögliches Exceptionhandling für diese Situation implementiert\n",
    "\n",
    "> NOTE: Denk daran, es gibt immer verschiedene Möglichkeiten mit Exceptions umzugehen. Exceptionhandling ist eine anspruchsvolle Aufgabe für welche es kein Standartvorgehen gibt. Der einzig falsche Ansatz ist es, Exceptions zu Ignorieren 😉"
   ]
  },
  {
   "cell_type": "code",
   "execution_count": 69,
   "metadata": {},
   "outputs": [
    {
     "name": "stdout",
     "output_type": "stream",
     "text": [
      "\u001b[91mWrite-Error: \u001b[91m\n",
      "🔴 Server server.test.work is currently too busy to connect\u001b[0m\n",
      "Retrying to connect to Server in 4 seconds\n",
      "Retrying to connect to Server in 3 seconds\n",
      "Retrying to connect to Server in 2 seconds\n",
      "Retrying to connect to Server in 1 seconds\n",
      "🟢 Succesfully connected to Server server.test.work\n"
     ]
    }
   ],
   "source": [
    "#!powershell\n",
    "\n",
    "# Connection Settings\n",
    "$serverName = \"server.test.work\"\n",
    "$retryTimeSeconds = 4\n",
    "\n",
    "# Function used to Resolve ServerTooBusyExceptions\n",
    "function Resolve-ServerConnectionBusy{\n",
    "    <#\n",
    "    .DESCRIPTION\n",
    "        If the server is busy, the Scripts waits for the set ammount of seconds and then tries to connect again.\n",
    "        If the second attempt failes too, an System.ServiceModel.ServerTooBusyException Exception is thrown.\n",
    "    #>\n",
    "    \n",
    "    for ($i = $retryTimeSeconds; $i -gt 0; $i--) {\n",
    "        Write-Information (\"Retrying to connect to Server in {0} seconds\" -f $i)\n",
    "        Start-Sleep -Seconds 1\n",
    "    }\n",
    "    \n",
    "    Connect-ThirdPartyServer $serverName\n",
    "}\n",
    "\n",
    "try{\n",
    "    Connect-ThirdPartyServer $serverName\n",
    "}\n",
    "catch [System.ServiceModel.ServerTooBusyException]{\n",
    "    Write-Error (\"`n\"+ $PSItem.ToString()) -Category ResourceBusy\n",
    "    Resolve-ServerConnectionBusy\n",
    "\n",
    "}"
   ]
  },
  {
   "cell_type": "markdown",
   "metadata": {},
   "source": [
    "### Durch aktive Korrektur behebbare Excpetions"
   ]
  },
  {
   "cell_type": "code",
   "execution_count": null,
   "metadata": {},
   "outputs": [],
   "source": [
    "#!powershell"
   ]
  },
  {
   "cell_type": "code",
   "execution_count": 11,
   "metadata": {},
   "outputs": [
    {
     "name": "stdout",
     "output_type": "stream",
     "text": [
      "\u001b[91mException: \u001b[0m/home/jovyan/.local/share/powershell/Modules/Pester/5.1.0/Pester.psm1:8589\n",
      "\u001b[96mLine |\n",
      "\u001b[96m8589 | \u001b[0m         \u001b[96mthrow \"Pester can run only saved files interactively. Please \u001b[0m …\n",
      "\u001b[96m     | \u001b[91m         ~~~~~~~~~~~~~~~~~~~~~~~~~~~~~~~~~~~~~~~~~~~~~~~~~~~~~~~~~~~~~\n",
      "\u001b[91m\u001b[96m     | \u001b[91mPester can run only saved files interactively. Please save your file to a disk.\n",
      "\u001b[0m\n"
     ]
    }
   ],
   "source": [
    "Describe 'Test' {\n",
    "    It 'returns on text file'{\n",
    "        Mock -CommandName Test-Path -MockWith {$false}\n",
    "    }\n",
    "}"
   ]
  },
  {
   "cell_type": "code",
   "execution_count": null,
   "metadata": {},
   "outputs": [],
   "source": []
  }
 ],
 "metadata": {
  "kernelspec": {
   "display_name": ".NET (PowerShell)",
   "language": "PowerShell",
   "name": ".net-powershell"
  },
  "language_info": {
   "file_extension": ".ps1",
   "mimetype": "text/x-powershell",
   "name": "PowerShell",
   "pygments_lexer": "powershell",
   "version": "7.0"
  }
 },
 "nbformat": 4,
 "nbformat_minor": 4
}
